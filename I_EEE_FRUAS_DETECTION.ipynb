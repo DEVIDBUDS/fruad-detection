{
  "nbformat": 4,
  "nbformat_minor": 0,
  "metadata": {
    "colab": {
      "provenance": [],
      "gpuType": "T4"
    },
    "kernelspec": {
      "name": "python3",
      "display_name": "Python 3"
    },
    "language_info": {
      "name": "python"
    },
    "accelerator": "GPU"
  },
  "cells": [
    {
      "cell_type": "code",
      "execution_count": 1,
      "metadata": {
        "id": "jyFj9AIWerG2",
        "colab": {
          "base_uri": "https://localhost:8080/"
        },
        "outputId": "d8c7f3f0-6e40-4f83-815a-5233ba75aa53"
      },
      "outputs": [
        {
          "output_type": "stream",
          "name": "stdout",
          "text": [
            "Accuracy: 0.9700\n",
            "Confusion Matrix:\n",
            "[[966   2]\n",
            " [ 28   4]]\n",
            "Classification Report:\n",
            "              precision    recall  f1-score   support\n",
            "\n",
            "           0       0.97      1.00      0.98       968\n",
            "           1       0.67      0.12      0.21        32\n",
            "\n",
            "    accuracy                           0.97      1000\n",
            "   macro avg       0.82      0.56      0.60      1000\n",
            "weighted avg       0.96      0.97      0.96      1000\n",
            "\n"
          ]
        }
      ],
      "source": [
        "# Import necessary libraries\n",
        "import numpy as np\n",
        "import pandas as pd\n",
        "from sklearn.model_selection import train_test_split\n",
        "from sklearn.preprocessing import StandardScaler, OneHotEncoder\n",
        "from sklearn.impute import SimpleImputer\n",
        "from sklearn.pipeline import Pipeline\n",
        "from sklearn.compose import ColumnTransformer\n",
        "from sklearn.ensemble import RandomForestClassifier\n",
        "from sklearn.metrics import accuracy_score, confusion_matrix, classification_report\n",
        "\n",
        "# Load datasets\n",
        "train_iden = pd.read_csv('/content/train_identity.csv.zip')\n",
        "train_tran = pd.read_csv('/content/train_transaction.csv.zip')\n",
        "test_iden = pd.read_csv('/content/test_identity.csv.zip')\n",
        "test_tran = pd.read_csv('/content/test_transaction.csv.zip')\n",
        "\n",
        "# Merge datasets on TransactionID\n",
        "train_df = train_tran.merge(train_iden, how='left', on='TransactionID')\n",
        "test_df = test_tran.merge(test_iden, how='left', on='TransactionID')\n",
        "\n",
        "# Sample a subset for faster testing\n",
        "train_df = train_df.sample(n=5000, random_state=42)\n",
        "test_df = test_df.sample(n=5000, random_state=42)\n",
        "\n",
        "# Split target and features\n",
        "X = train_df.drop(columns=['isFraud', 'TransactionID'])\n",
        "y = train_df['isFraud']\n",
        "\n",
        "# Separate categorical and numerical columns\n",
        "numerical_cols = X.select_dtypes(include=['int64', 'float64']).columns\n",
        "categorical_cols = X.select_dtypes(include=['object']).columns\n",
        "\n",
        "# Data Preprocessing for Numerical and Categorical Data\n",
        "numerical_transformer = Pipeline(steps=[\n",
        "    ('imputer', SimpleImputer(strategy='median')),  # Handle missing values\n",
        "    ('scaler', StandardScaler())  # Feature scaling using Standardization\n",
        "])\n",
        "\n",
        "categorical_transformer = Pipeline(steps=[\n",
        "    ('imputer', SimpleImputer(strategy='most_frequent')),  # Handle missing values\n",
        "    ('onehot', OneHotEncoder(handle_unknown='ignore'))  # Handle categorical data\n",
        "])\n",
        "\n",
        "# Bundle preprocessing for numerical and categorical data\n",
        "preprocessor = ColumnTransformer(\n",
        "    transformers=[\n",
        "        ('num', numerical_transformer, numerical_cols),\n",
        "        ('cat', categorical_transformer, categorical_cols)\n",
        "    ])\n",
        "\n",
        "# Define model\n",
        "model = RandomForestClassifier(random_state=42)\n",
        "\n",
        "# Create a pipeline that bundles preprocessing and the model\n",
        "clf = Pipeline(steps=[('preprocessor', preprocessor),\n",
        "                      ('classifier', model)])\n",
        "\n",
        "# Split data into train and validation sets\n",
        "X_train, X_test, y_train, y_test = train_test_split(X, y, test_size=0.2, random_state=42)\n",
        "\n",
        "# Train the model\n",
        "clf.fit(X_train, y_train)\n",
        "\n",
        "# Predict on the test set\n",
        "y_pred = clf.predict(X_test)\n",
        "\n",
        "# Evaluate the model\n",
        "accuracy = accuracy_score(y_test, y_pred)\n",
        "print(f\"Accuracy: {accuracy:.4f}\")\n",
        "\n",
        "# Additional classification performance metrics\n",
        "conf_matrix = confusion_matrix(y_test, y_pred)\n",
        "print(\"Confusion Matrix:\")\n",
        "print(conf_matrix)\n",
        "\n",
        "# Detailed classification report\n",
        "class_report = classification_report(y_test, y_pred)\n",
        "print(\"Classification Report:\")\n",
        "print(class_report)\n"
      ]
    }
  ]
}